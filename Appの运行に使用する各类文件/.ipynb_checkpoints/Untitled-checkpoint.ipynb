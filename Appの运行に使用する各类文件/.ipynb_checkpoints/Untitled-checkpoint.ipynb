{
 "cells": [
  {
   "cell_type": "code",
   "execution_count": 7,
   "id": "4e4f4960-758c-4a58-8324-6959ce838cd1",
   "metadata": {},
   "outputs": [
    {
     "name": "stdout",
     "output_type": "stream",
     "text": [
      "38643\n",
      "51415\n",
      "重複する行の数は 26616 行です。\n"
     ]
    }
   ],
   "source": [
    "def count_duplicate_lines(file1, file2):\n",
    "    # ファイル1の行をセットとして読み込む\n",
    "    with open(file1, 'r', encoding='utf-8') as f:\n",
    "        lines1 = set(f.readlines())\n",
    "        print(len(lines1))\n",
    "\n",
    "    # ファイル2の行をセットとして読み込む\n",
    "    with open(file2, 'r', encoding='utf-8') as f:\n",
    "        lines2 = set(f.readlines())\n",
    "        print(len(lines2))\n",
    "    # 両ファイルの行の交差部分を見つける\n",
    "    duplicates = lines1.intersection(lines2)\n",
    "\n",
    "    # 重複行の数を返す\n",
    "    return len(duplicates)\n",
    "\n",
    "# 関数を実行し、結果を表示\n",
    "file1_path = '检查世界语所有单词的结尾是否被正确切除(result).txt'\n",
    "file2_path = '检查世界语所有单词的结尾是否被正确切除(result)2.txt'\n",
    "duplicate_count = count_duplicate_lines(file1_path, file2_path)\n",
    "print(f\"重複する行の数は {duplicate_count} 行です。\")\n"
   ]
  },
  {
   "cell_type": "code",
   "execution_count": 2,
   "id": "ab23886c-934b-49a0-8d1f-66e445fe9329",
   "metadata": {},
   "outputs": [],
   "source": [
    "def extract_and_save(input_file, output_file):\n",
    "    # 入力ファイルを開く\n",
    "    with open(input_file, 'r', encoding='utf-8') as infile:\n",
    "        # 処理結果を保存するためのリストを用意\n",
    "        processed_lines = []\n",
    "        \n",
    "        # 各行に対して処理を行う\n",
    "        for line in infile:\n",
    "            # コンマの位置を見つける\n",
    "            index = line.find(',')\n",
    "            if index != -1:\n",
    "                # コンマの前のテキスト部分を抽出\n",
    "                processed_lines.append(line[:index] + '\\n')\n",
    "            else:\n",
    "                # コンマがない場合、行全体を追加（この場合は考慮外かもしれませんが念のため）\n",
    "                processed_lines.append(line)\n",
    "\n",
    "    # 結果を新しいファイルに書き込む\n",
    "    with open(output_file, 'w', encoding='utf-8') as outfile:\n",
    "        outfile.writelines(processed_lines)\n",
    "\n",
    "# 関数を実行する\n",
    "input_file_path = '检查世界语所有单词的结尾是否被正确切除(result).txt'\n",
    "output_file_path = '检查世界语所有单词的结尾是否被正确切除(result)_processed.txt'\n",
    "extract_and_save(input_file_path, output_file_path)\n",
    "\n",
    "        "
   ]
  },
  {
   "cell_type": "code",
   "execution_count": 3,
   "id": "44fbeee1-bb9d-44ca-9fd2-3c5d7cbb76e5",
   "metadata": {},
   "outputs": [],
   "source": [
    "def extract_and_save(input_file, output_file):\n",
    "    # 入力ファイルを開く\n",
    "    with open(input_file, 'r', encoding='utf-8') as infile:\n",
    "        # 処理結果を保存するためのリストを用意\n",
    "        processed_lines = []\n",
    "        \n",
    "        # 各行に対して処理を行う\n",
    "        for line in infile:\n",
    "            # コンマの位置を見つける\n",
    "            index = line.find(',')\n",
    "            if index != -1:\n",
    "                # コンマの前のテキスト部分を抽出\n",
    "                processed_lines.append(line[:index] + '\\n')\n",
    "            else:\n",
    "                # コンマがない場合、行全体を追加（この場合は考慮外かもしれませんが念のため）\n",
    "                processed_lines.append(line)\n",
    "\n",
    "    # 結果を新しいファイルに書き込む\n",
    "    with open(output_file, 'w', encoding='utf-8') as outfile:\n",
    "        outfile.writelines(processed_lines)\n",
    "\n",
    "# 関数を実行する\n",
    "input_file_path = '检查世界语所有单词的结尾是否被正确切除(result)2.txt'\n",
    "output_file_path = '检查世界语所有单词的结尾是否被正确切除(result)2_processed.txt'\n",
    "extract_and_save(input_file_path, output_file_path)"
   ]
  },
  {
   "cell_type": "code",
   "execution_count": 6,
   "id": "db8b0649-75d0-45f1-a3db-13b9e0a2278c",
   "metadata": {},
   "outputs": [
    {
     "name": "stdout",
     "output_type": "stream",
     "text": [
      "32030\n",
      "44703\n",
      "重複する行の数は 22777 行です。\n"
     ]
    }
   ],
   "source": [
    "def count_duplicate_lines(file1, file2):\n",
    "    # ファイル1の行をセットとして読み込む\n",
    "    with open(file1, 'r', encoding='utf-8') as f:\n",
    "        lines1 = set(f.readlines())\n",
    "        print(len(lines1))\n",
    "\n",
    "    # ファイル2の行をセットとして読み込む\n",
    "    with open(file2, 'r', encoding='utf-8') as f:\n",
    "        lines2 = set(f.readlines())\n",
    "        print(len(lines2))\n",
    "    # 両ファイルの行の交差部分を見つける\n",
    "    duplicates = lines1.intersection(lines2)\n",
    "\n",
    "    # 重複行の数を返す\n",
    "    return len(duplicates)\n",
    "\n",
    "# 関数を実行し、結果を表示\n",
    "file1_path = '检查世界语所有单词的结尾是否被正确切除(result)_processed.txt'\n",
    "file2_path = '检查世界语所有单词的结尾是否被正确切除(result)2_processed.txt'\n",
    "duplicate_count = count_duplicate_lines(file1_path, file2_path)\n",
    "print(f\"重複する行の数は {duplicate_count} 行です。\")\n"
   ]
  },
  {
   "cell_type": "code",
   "execution_count": 5,
   "id": "189ab260-3279-4442-a4ef-e7578e6b9a10",
   "metadata": {},
   "outputs": [
    {
     "ename": "NameError",
     "evalue": "name 'lines1' is not defined",
     "output_type": "error",
     "traceback": [
      "\u001b[0;31m---------------------------------------------------------------------------\u001b[0m",
      "\u001b[0;31mNameError\u001b[0m                                 Traceback (most recent call last)",
      "Cell \u001b[0;32mIn[5], line 1\u001b[0m\n\u001b[0;32m----> 1\u001b[0m \u001b[38;5;28mlen\u001b[39m(\u001b[43mlines1\u001b[49m)\n",
      "\u001b[0;31mNameError\u001b[0m: name 'lines1' is not defined"
     ]
    }
   ],
   "source": [
    "len(lines1)"
   ]
  },
  {
   "cell_type": "code",
   "execution_count": 8,
   "id": "b71eb6d7-0dfc-4781-9a85-f1fabf603fc6",
   "metadata": {},
   "outputs": [
    {
     "name": "stdout",
     "output_type": "stream",
     "text": [
      "ファイル1にのみ存在するユニークな行の数は 12027 行です。\n",
      "ファイル2にのみ存在するユニークな行の数は 24799 行です。\n"
     ]
    }
   ],
   "source": [
    "def extract_unique_lines(file1, file2, output1, output2):\n",
    "    # ファイル1の行をセットとして読み込む\n",
    "    with open(file1, 'r', encoding='utf-8') as f:\n",
    "        lines1 = set(f.readlines())\n",
    "\n",
    "    # ファイル2の行をセットとして読み込む\n",
    "    with open(file2, 'r', encoding='utf-8') as f:\n",
    "        lines2 = set(f.readlines())\n",
    "\n",
    "    # 両ファイルの行の差集合を見つける\n",
    "    unique1 = lines1 - lines2\n",
    "    unique2 = lines2 - lines1\n",
    "\n",
    "    # ファイル1のユニークな行をファイルに保存\n",
    "    with open(output1, 'w', encoding='utf-8') as f:\n",
    "        f.writelines(unique1)\n",
    "\n",
    "    # ファイル2のユニークな行をファイルに保存\n",
    "    with open(output2, 'w', encoding='utf-8') as f:\n",
    "        f.writelines(unique2)\n",
    "\n",
    "    return len(unique1), len(unique2)\n",
    "\n",
    "# 関数を実行し、結果を表示\n",
    "file1_path = '检查世界语所有单词的结尾是否被正确切除(result).txt'\n",
    "file2_path = '检查世界语所有单词的结尾是否被正确切除(result)2.txt'\n",
    "output1_path = 'unique_to_file1.txt'\n",
    "output2_path = 'unique_to_file2.txt'\n",
    "unique_count1, unique_count2 = extract_unique_lines(file1_path, file2_path, output1_path, output2_path)\n",
    "print(f\"ファイル1にのみ存在するユニークな行の数は {unique_count1} 行です。\")\n",
    "print(f\"ファイル2にのみ存在するユニークな行の数は {unique_count2} 行です。\")\n"
   ]
  },
  {
   "cell_type": "code",
   "execution_count": null,
   "id": "ddb8ddeb-d2fe-4e82-8023-e236f0e8ac0f",
   "metadata": {},
   "outputs": [],
   "source": []
  }
 ],
 "metadata": {
  "kernelspec": {
   "display_name": "Python 3 (ipykernel)",
   "language": "python",
   "name": "python3"
  },
  "language_info": {
   "codemirror_mode": {
    "name": "ipython",
    "version": 3
   },
   "file_extension": ".py",
   "mimetype": "text/x-python",
   "name": "python",
   "nbconvert_exporter": "python",
   "pygments_lexer": "ipython3",
   "version": "3.8.18"
  }
 },
 "nbformat": 4,
 "nbformat_minor": 5
}
